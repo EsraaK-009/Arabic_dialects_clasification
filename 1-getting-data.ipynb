{
 "cells": [
  {
   "cell_type": "markdown",
   "id": "c69a8c83",
   "metadata": {
    "papermill": {
     "duration": 0.016271,
     "end_time": "2022-03-11T01:21:39.108660",
     "exception": false,
     "start_time": "2022-03-11T01:21:39.092389",
     "status": "completed"
    },
    "tags": []
   },
   "source": [
    "# Fetching data from API"
   ]
  },
  {
   "cell_type": "markdown",
   "id": "e0a56914",
   "metadata": {
    "papermill": {
     "duration": 0.015468,
     "end_time": "2022-03-11T01:21:39.139687",
     "exception": false,
     "start_time": "2022-03-11T01:21:39.124219",
     "status": "completed"
    },
    "tags": []
   },
   "source": [
    "First, let's inspect the data and POST request format."
   ]
  },
  {
   "cell_type": "code",
   "execution_count": 1,
   "id": "76327b2d",
   "metadata": {
    "_cell_guid": "b1076dfc-b9ad-4769-8c92-a6c4dae69d19",
    "_uuid": "8f2839f25d086af736a60e9eeb907d3b93b6e0e5",
    "execution": {
     "iopub.execute_input": "2022-03-11T01:21:39.174183Z",
     "iopub.status.busy": "2022-03-11T01:21:39.172987Z",
     "iopub.status.idle": "2022-03-11T01:21:39.473860Z",
     "shell.execute_reply": "2022-03-11T01:21:39.474850Z",
     "shell.execute_reply.started": "2022-03-05T15:37:54.891915Z"
    },
    "papermill": {
     "duration": 0.320337,
     "end_time": "2022-03-11T01:21:39.475177",
     "exception": false,
     "start_time": "2022-03-11T01:21:39.154840",
     "status": "completed"
    },
    "tags": []
   },
   "outputs": [],
   "source": [
    "import numpy as np \n",
    "import pandas as pd \n",
    "import requests\n",
    "\n",
    "data = pd.read_csv(\"../input/dialect-dataset/dialect_dataset.csv\")"
   ]
  },
  {
   "cell_type": "code",
   "execution_count": 2,
   "id": "1c7bf1f7",
   "metadata": {
    "execution": {
     "iopub.execute_input": "2022-03-11T01:21:39.516884Z",
     "iopub.status.busy": "2022-03-11T01:21:39.515841Z",
     "iopub.status.idle": "2022-03-11T01:21:39.527403Z",
     "shell.execute_reply": "2022-03-11T01:21:39.527900Z",
     "shell.execute_reply.started": "2022-03-05T15:37:55.206714Z"
    },
    "papermill": {
     "duration": 0.036826,
     "end_time": "2022-03-11T01:21:39.528085",
     "exception": false,
     "start_time": "2022-03-11T01:21:39.491259",
     "status": "completed"
    },
    "tags": []
   },
   "outputs": [
    {
     "data": {
      "text/html": [
       "<div>\n",
       "<style scoped>\n",
       "    .dataframe tbody tr th:only-of-type {\n",
       "        vertical-align: middle;\n",
       "    }\n",
       "\n",
       "    .dataframe tbody tr th {\n",
       "        vertical-align: top;\n",
       "    }\n",
       "\n",
       "    .dataframe thead th {\n",
       "        text-align: right;\n",
       "    }\n",
       "</style>\n",
       "<table border=\"1\" class=\"dataframe\">\n",
       "  <thead>\n",
       "    <tr style=\"text-align: right;\">\n",
       "      <th></th>\n",
       "      <th>id</th>\n",
       "      <th>dialect</th>\n",
       "    </tr>\n",
       "  </thead>\n",
       "  <tbody>\n",
       "    <tr>\n",
       "      <th>0</th>\n",
       "      <td>1175358310087892992</td>\n",
       "      <td>IQ</td>\n",
       "    </tr>\n",
       "    <tr>\n",
       "      <th>1</th>\n",
       "      <td>1175416117793349632</td>\n",
       "      <td>IQ</td>\n",
       "    </tr>\n",
       "    <tr>\n",
       "      <th>2</th>\n",
       "      <td>1175450108898565888</td>\n",
       "      <td>IQ</td>\n",
       "    </tr>\n",
       "    <tr>\n",
       "      <th>3</th>\n",
       "      <td>1175471073770573824</td>\n",
       "      <td>IQ</td>\n",
       "    </tr>\n",
       "    <tr>\n",
       "      <th>4</th>\n",
       "      <td>1175496913145217024</td>\n",
       "      <td>IQ</td>\n",
       "    </tr>\n",
       "  </tbody>\n",
       "</table>\n",
       "</div>"
      ],
      "text/plain": [
       "                    id dialect\n",
       "0  1175358310087892992      IQ\n",
       "1  1175416117793349632      IQ\n",
       "2  1175450108898565888      IQ\n",
       "3  1175471073770573824      IQ\n",
       "4  1175496913145217024      IQ"
      ]
     },
     "execution_count": 2,
     "metadata": {},
     "output_type": "execute_result"
    }
   ],
   "source": [
    "data.head()"
   ]
  },
  {
   "cell_type": "code",
   "execution_count": 3,
   "id": "ce13c96d",
   "metadata": {
    "execution": {
     "iopub.execute_input": "2022-03-11T01:21:39.584369Z",
     "iopub.status.busy": "2022-03-11T01:21:39.562840Z",
     "iopub.status.idle": "2022-03-11T01:21:39.632575Z",
     "shell.execute_reply": "2022-03-11T01:21:39.631921Z",
     "shell.execute_reply.started": "2022-03-04T18:59:32.903811Z"
    },
    "papermill": {
     "duration": 0.088641,
     "end_time": "2022-03-11T01:21:39.632720",
     "exception": false,
     "start_time": "2022-03-11T01:21:39.544079",
     "status": "completed"
    },
    "tags": []
   },
   "outputs": [
    {
     "data": {
      "text/html": [
       "<div>\n",
       "<style scoped>\n",
       "    .dataframe tbody tr th:only-of-type {\n",
       "        vertical-align: middle;\n",
       "    }\n",
       "\n",
       "    .dataframe tbody tr th {\n",
       "        vertical-align: top;\n",
       "    }\n",
       "\n",
       "    .dataframe thead th {\n",
       "        text-align: right;\n",
       "    }\n",
       "</style>\n",
       "<table border=\"1\" class=\"dataframe\">\n",
       "  <thead>\n",
       "    <tr style=\"text-align: right;\">\n",
       "      <th></th>\n",
       "      <th>id</th>\n",
       "    </tr>\n",
       "    <tr>\n",
       "      <th>dialect</th>\n",
       "      <th></th>\n",
       "    </tr>\n",
       "  </thead>\n",
       "  <tbody>\n",
       "    <tr>\n",
       "      <th>AE</th>\n",
       "      <td>26296</td>\n",
       "    </tr>\n",
       "    <tr>\n",
       "      <th>BH</th>\n",
       "      <td>26292</td>\n",
       "    </tr>\n",
       "    <tr>\n",
       "      <th>DZ</th>\n",
       "      <td>16183</td>\n",
       "    </tr>\n",
       "    <tr>\n",
       "      <th>EG</th>\n",
       "      <td>57636</td>\n",
       "    </tr>\n",
       "    <tr>\n",
       "      <th>IQ</th>\n",
       "      <td>15497</td>\n",
       "    </tr>\n",
       "    <tr>\n",
       "      <th>JO</th>\n",
       "      <td>27921</td>\n",
       "    </tr>\n",
       "    <tr>\n",
       "      <th>KW</th>\n",
       "      <td>42109</td>\n",
       "    </tr>\n",
       "    <tr>\n",
       "      <th>LB</th>\n",
       "      <td>27617</td>\n",
       "    </tr>\n",
       "    <tr>\n",
       "      <th>LY</th>\n",
       "      <td>36499</td>\n",
       "    </tr>\n",
       "    <tr>\n",
       "      <th>MA</th>\n",
       "      <td>11539</td>\n",
       "    </tr>\n",
       "    <tr>\n",
       "      <th>OM</th>\n",
       "      <td>19116</td>\n",
       "    </tr>\n",
       "    <tr>\n",
       "      <th>PL</th>\n",
       "      <td>43742</td>\n",
       "    </tr>\n",
       "    <tr>\n",
       "      <th>QA</th>\n",
       "      <td>31069</td>\n",
       "    </tr>\n",
       "    <tr>\n",
       "      <th>SA</th>\n",
       "      <td>26832</td>\n",
       "    </tr>\n",
       "    <tr>\n",
       "      <th>SD</th>\n",
       "      <td>14434</td>\n",
       "    </tr>\n",
       "    <tr>\n",
       "      <th>SY</th>\n",
       "      <td>16242</td>\n",
       "    </tr>\n",
       "    <tr>\n",
       "      <th>TN</th>\n",
       "      <td>9246</td>\n",
       "    </tr>\n",
       "    <tr>\n",
       "      <th>YE</th>\n",
       "      <td>9927</td>\n",
       "    </tr>\n",
       "  </tbody>\n",
       "</table>\n",
       "</div>"
      ],
      "text/plain": [
       "            id\n",
       "dialect       \n",
       "AE       26296\n",
       "BH       26292\n",
       "DZ       16183\n",
       "EG       57636\n",
       "IQ       15497\n",
       "JO       27921\n",
       "KW       42109\n",
       "LB       27617\n",
       "LY       36499\n",
       "MA       11539\n",
       "OM       19116\n",
       "PL       43742\n",
       "QA       31069\n",
       "SA       26832\n",
       "SD       14434\n",
       "SY       16242\n",
       "TN        9246\n",
       "YE        9927"
      ]
     },
     "execution_count": 3,
     "metadata": {},
     "output_type": "execute_result"
    }
   ],
   "source": [
    "data.groupby('dialect').count()"
   ]
  },
  {
   "cell_type": "code",
   "execution_count": 4,
   "id": "69633e9e",
   "metadata": {
    "execution": {
     "iopub.execute_input": "2022-03-11T01:21:39.670334Z",
     "iopub.status.busy": "2022-03-11T01:21:39.669303Z",
     "iopub.status.idle": "2022-03-11T01:21:39.736545Z",
     "shell.execute_reply": "2022-03-11T01:21:39.737142Z",
     "shell.execute_reply.started": "2022-03-04T19:03:22.337888Z"
    },
    "papermill": {
     "duration": 0.087829,
     "end_time": "2022-03-11T01:21:39.737342",
     "exception": false,
     "start_time": "2022-03-11T01:21:39.649513",
     "status": "completed"
    },
    "tags": []
   },
   "outputs": [
    {
     "name": "stdout",
     "output_type": "stream",
     "text": [
      "<class 'pandas.core.frame.DataFrame'>\n",
      "RangeIndex: 458197 entries, 0 to 458196\n",
      "Data columns (total 2 columns):\n",
      " #   Column   Non-Null Count   Dtype \n",
      "---  ------   --------------   ----- \n",
      " 0   id       458197 non-null  int64 \n",
      " 1   dialect  458197 non-null  object\n",
      "dtypes: int64(1), object(1)\n",
      "memory usage: 7.0+ MB\n"
     ]
    }
   ],
   "source": [
    "data.info()"
   ]
  },
  {
   "cell_type": "markdown",
   "id": "0e313291",
   "metadata": {
    "papermill": {
     "duration": 0.016398,
     "end_time": "2022-03-11T01:21:39.771221",
     "exception": false,
     "start_time": "2022-03-11T01:21:39.754823",
     "status": "completed"
    },
    "tags": []
   },
   "source": [
    "The API needs the id to be a string."
   ]
  },
  {
   "cell_type": "code",
   "execution_count": 5,
   "id": "dd3d96e9",
   "metadata": {
    "execution": {
     "iopub.execute_input": "2022-03-11T01:21:39.808063Z",
     "iopub.status.busy": "2022-03-11T01:21:39.807311Z",
     "iopub.status.idle": "2022-03-11T01:21:40.363098Z",
     "shell.execute_reply": "2022-03-11T01:21:40.362451Z",
     "shell.execute_reply.started": "2022-03-04T19:20:38.938706Z"
    },
    "papermill": {
     "duration": 0.575252,
     "end_time": "2022-03-11T01:21:40.363260",
     "exception": false,
     "start_time": "2022-03-11T01:21:39.788008",
     "status": "completed"
    },
    "tags": []
   },
   "outputs": [],
   "source": [
    "data =data.astype({\"id\": str})"
   ]
  },
  {
   "cell_type": "markdown",
   "id": "8789a18f",
   "metadata": {
    "papermill": {
     "duration": 0.016614,
     "end_time": "2022-03-11T01:21:40.397107",
     "exception": false,
     "start_time": "2022-03-11T01:21:40.380493",
     "status": "completed"
    },
    "tags": []
   },
   "source": [
    "Used yield not for a particular reason, I just wanted to practice more on using it."
   ]
  },
  {
   "cell_type": "code",
   "execution_count": 6,
   "id": "2261d2d7",
   "metadata": {
    "execution": {
     "iopub.execute_input": "2022-03-11T01:21:40.438409Z",
     "iopub.status.busy": "2022-03-11T01:21:40.437479Z",
     "iopub.status.idle": "2022-03-11T01:21:40.439675Z",
     "shell.execute_reply": "2022-03-11T01:21:40.440212Z",
     "shell.execute_reply.started": "2022-03-04T19:50:46.897438Z"
    },
    "papermill": {
     "duration": 0.026575,
     "end_time": "2022-03-11T01:21:40.440401",
     "exception": false,
     "start_time": "2022-03-11T01:21:40.413826",
     "status": "completed"
    },
    "tags": []
   },
   "outputs": [],
   "source": [
    "Max_length = 458000\n",
    "url = \"https://recruitment.aimtechnologies.co/ai-tasks\"\n",
    "def getting_1000_texts():\n",
    "    count = 0\n",
    "    \n",
    "\n",
    "    while True:\n",
    "        if count == 458000:\n",
    "            break\n",
    "        id_list = data['id'][count:count+1000].to_list()\n",
    "        dialect_list = data['dialect'][count:count+1000].to_list()\n",
    "        response = requests.post(url, json =id_list)\n",
    "        text_list = list(response.json().values())\n",
    "        \n",
    "        yield id_list, dialect_list, text_list\n",
    "        count += 1000\n",
    "        "
   ]
  },
  {
   "cell_type": "code",
   "execution_count": 7,
   "id": "4fe1915b",
   "metadata": {
    "execution": {
     "iopub.execute_input": "2022-03-11T01:21:40.477341Z",
     "iopub.status.busy": "2022-03-11T01:21:40.476641Z",
     "iopub.status.idle": "2022-03-11T01:27:11.900642Z",
     "shell.execute_reply": "2022-03-11T01:27:11.899909Z",
     "shell.execute_reply.started": "2022-03-04T19:51:10.157446Z"
    },
    "papermill": {
     "duration": 331.44352,
     "end_time": "2022-03-11T01:27:11.900803",
     "exception": false,
     "start_time": "2022-03-11T01:21:40.457283",
     "status": "completed"
    },
    "tags": []
   },
   "outputs": [],
   "source": [
    "ID_list = []\n",
    "dialect_lis = []\n",
    "text_lis = []\n",
    "\n",
    "for ID, dialect, text in getting_1000_texts():\n",
    "    ID_list.extend(ID)\n",
    "    dialect_lis.extend(dialect)\n",
    "    text_lis.extend(text)"
   ]
  },
  {
   "cell_type": "markdown",
   "id": "81621d03",
   "metadata": {
    "papermill": {
     "duration": 0.016707,
     "end_time": "2022-03-11T01:27:11.934539",
     "exception": false,
     "start_time": "2022-03-11T01:27:11.917832",
     "status": "completed"
    },
    "tags": []
   },
   "source": [
    "### Getting the last 197 tweet"
   ]
  },
  {
   "cell_type": "code",
   "execution_count": 8,
   "id": "875cd63d",
   "metadata": {
    "execution": {
     "iopub.execute_input": "2022-03-11T01:27:11.979731Z",
     "iopub.status.busy": "2022-03-11T01:27:11.978979Z",
     "iopub.status.idle": "2022-03-11T01:27:12.412529Z",
     "shell.execute_reply": "2022-03-11T01:27:12.411888Z",
     "shell.execute_reply.started": "2022-03-04T20:00:27.434365Z"
    },
    "papermill": {
     "duration": 0.461075,
     "end_time": "2022-03-11T01:27:12.412682",
     "exception": false,
     "start_time": "2022-03-11T01:27:11.951607",
     "status": "completed"
    },
    "tags": []
   },
   "outputs": [
    {
     "data": {
      "text/plain": [
       "458197"
      ]
     },
     "execution_count": 8,
     "metadata": {},
     "output_type": "execute_result"
    }
   ],
   "source": [
    "# getting the last 197 tweet\n",
    "id_list = data['id'][Max_length:].to_list()\n",
    "dialect_list = data['dialect'][Max_length:].to_list()\n",
    "response = requests.post(url, json =id_list)\n",
    "text_list = list(response.json().values())\n",
    "ID_list.extend(id_list)\n",
    "dialect_lis.extend(dialect_list)\n",
    "text_lis.extend(text_list)\n",
    "len(ID_list)"
   ]
  },
  {
   "cell_type": "code",
   "execution_count": 9,
   "id": "281573a0",
   "metadata": {
    "execution": {
     "iopub.execute_input": "2022-03-11T01:27:12.483771Z",
     "iopub.status.busy": "2022-03-11T01:27:12.478004Z",
     "iopub.status.idle": "2022-03-11T01:27:12.601169Z",
     "shell.execute_reply": "2022-03-11T01:27:12.600582Z",
     "shell.execute_reply.started": "2022-03-04T20:00:55.19102Z"
    },
    "papermill": {
     "duration": 0.170881,
     "end_time": "2022-03-11T01:27:12.601320",
     "exception": false,
     "start_time": "2022-03-11T01:27:12.430439",
     "status": "completed"
    },
    "tags": []
   },
   "outputs": [],
   "source": [
    "dict_lists = {'id': ID_list, 'dialect': dialect_lis, 'text': text_lis} \n",
    "    \n",
    "df_text = pd.DataFrame(dict_lists)"
   ]
  },
  {
   "cell_type": "code",
   "execution_count": 10,
   "id": "f03284d8",
   "metadata": {
    "execution": {
     "iopub.execute_input": "2022-03-11T01:27:12.646784Z",
     "iopub.status.busy": "2022-03-11T01:27:12.645905Z",
     "iopub.status.idle": "2022-03-11T01:27:12.649746Z",
     "shell.execute_reply": "2022-03-11T01:27:12.649206Z",
     "shell.execute_reply.started": "2022-03-04T20:01:07.665809Z"
    },
    "papermill": {
     "duration": 0.031233,
     "end_time": "2022-03-11T01:27:12.649889",
     "exception": false,
     "start_time": "2022-03-11T01:27:12.618656",
     "status": "completed"
    },
    "tags": []
   },
   "outputs": [
    {
     "data": {
      "text/html": [
       "<div>\n",
       "<style scoped>\n",
       "    .dataframe tbody tr th:only-of-type {\n",
       "        vertical-align: middle;\n",
       "    }\n",
       "\n",
       "    .dataframe tbody tr th {\n",
       "        vertical-align: top;\n",
       "    }\n",
       "\n",
       "    .dataframe thead th {\n",
       "        text-align: right;\n",
       "    }\n",
       "</style>\n",
       "<table border=\"1\" class=\"dataframe\">\n",
       "  <thead>\n",
       "    <tr style=\"text-align: right;\">\n",
       "      <th></th>\n",
       "      <th>id</th>\n",
       "      <th>dialect</th>\n",
       "      <th>text</th>\n",
       "    </tr>\n",
       "  </thead>\n",
       "  <tbody>\n",
       "    <tr>\n",
       "      <th>0</th>\n",
       "      <td>1175358310087892992</td>\n",
       "      <td>IQ</td>\n",
       "      <td>@Nw8ieJUwaCAAreT لكن بالنهاية .. ينتفض .. يغير .</td>\n",
       "    </tr>\n",
       "    <tr>\n",
       "      <th>1</th>\n",
       "      <td>1175416117793349632</td>\n",
       "      <td>IQ</td>\n",
       "      <td>@7zNqXP0yrODdRjK يعني هذا محسوب على البشر .. ح...</td>\n",
       "    </tr>\n",
       "    <tr>\n",
       "      <th>2</th>\n",
       "      <td>1175450108898565888</td>\n",
       "      <td>IQ</td>\n",
       "      <td>@KanaanRema مبين من كلامه خليجي</td>\n",
       "    </tr>\n",
       "    <tr>\n",
       "      <th>3</th>\n",
       "      <td>1175471073770573824</td>\n",
       "      <td>IQ</td>\n",
       "      <td>@HAIDER76128900 يسلملي مرورك وروحك الحلوه💐</td>\n",
       "    </tr>\n",
       "    <tr>\n",
       "      <th>4</th>\n",
       "      <td>1175496913145217024</td>\n",
       "      <td>IQ</td>\n",
       "      <td>@hmo2406 وين هل الغيبه  اخ محمد 🌸🌺</td>\n",
       "    </tr>\n",
       "  </tbody>\n",
       "</table>\n",
       "</div>"
      ],
      "text/plain": [
       "                    id dialect  \\\n",
       "0  1175358310087892992      IQ   \n",
       "1  1175416117793349632      IQ   \n",
       "2  1175450108898565888      IQ   \n",
       "3  1175471073770573824      IQ   \n",
       "4  1175496913145217024      IQ   \n",
       "\n",
       "                                                text  \n",
       "0   @Nw8ieJUwaCAAreT لكن بالنهاية .. ينتفض .. يغير .  \n",
       "1  @7zNqXP0yrODdRjK يعني هذا محسوب على البشر .. ح...  \n",
       "2                    @KanaanRema مبين من كلامه خليجي  \n",
       "3         @HAIDER76128900 يسلملي مرورك وروحك الحلوه💐  \n",
       "4                 @hmo2406 وين هل الغيبه  اخ محمد 🌸🌺  "
      ]
     },
     "execution_count": 10,
     "metadata": {},
     "output_type": "execute_result"
    }
   ],
   "source": [
    "df_text.head()"
   ]
  },
  {
   "cell_type": "code",
   "execution_count": 11,
   "id": "d6b1a500",
   "metadata": {
    "execution": {
     "iopub.execute_input": "2022-03-11T01:27:12.691697Z",
     "iopub.status.busy": "2022-03-11T01:27:12.690819Z",
     "iopub.status.idle": "2022-03-11T01:27:16.161641Z",
     "shell.execute_reply": "2022-03-11T01:27:16.160851Z",
     "shell.execute_reply.started": "2022-03-04T20:02:53.000138Z"
    },
    "papermill": {
     "duration": 3.494077,
     "end_time": "2022-03-11T01:27:16.161805",
     "exception": false,
     "start_time": "2022-03-11T01:27:12.667728",
     "status": "completed"
    },
    "tags": []
   },
   "outputs": [],
   "source": [
    "df_text.to_csv(\"dialect_data.csv\",index=False)"
   ]
  }
 ],
 "metadata": {
  "kernelspec": {
   "display_name": "Python 3",
   "language": "python",
   "name": "python3"
  },
  "language_info": {
   "codemirror_mode": {
    "name": "ipython",
    "version": 3
   },
   "file_extension": ".py",
   "mimetype": "text/x-python",
   "name": "python",
   "nbconvert_exporter": "python",
   "pygments_lexer": "ipython3",
   "version": "3.7.12"
  },
  "papermill": {
   "default_parameters": {},
   "duration": 349.304808,
   "end_time": "2022-03-11T01:27:16.995375",
   "environment_variables": {},
   "exception": null,
   "input_path": "__notebook__.ipynb",
   "output_path": "__notebook__.ipynb",
   "parameters": {},
   "start_time": "2022-03-11T01:21:27.690567",
   "version": "2.3.3"
  }
 },
 "nbformat": 4,
 "nbformat_minor": 5
}
