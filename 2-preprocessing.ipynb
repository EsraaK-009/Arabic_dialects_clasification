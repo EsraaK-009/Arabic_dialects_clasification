{
 "cells": [
  {
   "cell_type": "markdown",
   "id": "46f99fed",
   "metadata": {
    "papermill": {
     "duration": 0.022252,
     "end_time": "2022-03-11T01:13:11.447800",
     "exception": false,
     "start_time": "2022-03-11T01:13:11.425548",
     "status": "completed"
    },
    "tags": []
   },
   "source": [
    "# Arabic Language Pre-Processing"
   ]
  },
  {
   "cell_type": "markdown",
   "id": "6cbfc332",
   "metadata": {
    "papermill": {
     "duration": 0.020536,
     "end_time": "2022-03-11T01:13:11.489873",
     "exception": false,
     "start_time": "2022-03-11T01:13:11.469337",
     "status": "completed"
    },
    "tags": []
   },
   "source": [
    "In this notebook I'll clean the data and split it to train,val,test for using with different models."
   ]
  },
  {
   "cell_type": "code",
   "execution_count": 1,
   "id": "8232a4fa",
   "metadata": {
    "_cell_guid": "b1076dfc-b9ad-4769-8c92-a6c4dae69d19",
    "_uuid": "8f2839f25d086af736a60e9eeb907d3b93b6e0e5",
    "execution": {
     "iopub.execute_input": "2022-03-11T01:13:11.542606Z",
     "iopub.status.busy": "2022-03-11T01:13:11.541922Z",
     "iopub.status.idle": "2022-03-11T01:13:12.923207Z",
     "shell.execute_reply": "2022-03-11T01:13:12.922445Z",
     "shell.execute_reply.started": "2022-03-08T18:25:33.533167Z"
    },
    "papermill": {
     "duration": 1.412089,
     "end_time": "2022-03-11T01:13:12.923419",
     "exception": false,
     "start_time": "2022-03-11T01:13:11.511330",
     "status": "completed"
    },
    "tags": []
   },
   "outputs": [],
   "source": [
    "import pandas as pd \n",
    "import numpy as np\n",
    "from sklearn.model_selection import train_test_split\n",
    "import re\n",
    "import string\n",
    "import emoji"
   ]
  },
  {
   "cell_type": "code",
   "execution_count": 2,
   "id": "e235e28a",
   "metadata": {
    "execution": {
     "iopub.execute_input": "2022-03-11T01:13:12.973932Z",
     "iopub.status.busy": "2022-03-11T01:13:12.973253Z",
     "iopub.status.idle": "2022-03-11T01:13:16.334635Z",
     "shell.execute_reply": "2022-03-11T01:13:16.333943Z",
     "shell.execute_reply.started": "2022-03-08T18:25:41.624192Z"
    },
    "papermill": {
     "duration": 3.387622,
     "end_time": "2022-03-11T01:13:16.334819",
     "exception": false,
     "start_time": "2022-03-11T01:13:12.947197",
     "status": "completed"
    },
    "tags": []
   },
   "outputs": [
    {
     "data": {
      "text/html": [
       "<div>\n",
       "<style scoped>\n",
       "    .dataframe tbody tr th:only-of-type {\n",
       "        vertical-align: middle;\n",
       "    }\n",
       "\n",
       "    .dataframe tbody tr th {\n",
       "        vertical-align: top;\n",
       "    }\n",
       "\n",
       "    .dataframe thead th {\n",
       "        text-align: right;\n",
       "    }\n",
       "</style>\n",
       "<table border=\"1\" class=\"dataframe\">\n",
       "  <thead>\n",
       "    <tr style=\"text-align: right;\">\n",
       "      <th></th>\n",
       "      <th>id</th>\n",
       "      <th>dialect</th>\n",
       "      <th>text</th>\n",
       "    </tr>\n",
       "  </thead>\n",
       "  <tbody>\n",
       "    <tr>\n",
       "      <th>0</th>\n",
       "      <td>1175358310087892992</td>\n",
       "      <td>IQ</td>\n",
       "      <td>@Nw8ieJUwaCAAreT لكن بالنهاية .. ينتفض .. يغير .</td>\n",
       "    </tr>\n",
       "    <tr>\n",
       "      <th>1</th>\n",
       "      <td>1175416117793349632</td>\n",
       "      <td>IQ</td>\n",
       "      <td>@7zNqXP0yrODdRjK يعني هذا محسوب على البشر .. ح...</td>\n",
       "    </tr>\n",
       "    <tr>\n",
       "      <th>2</th>\n",
       "      <td>1175450108898565888</td>\n",
       "      <td>IQ</td>\n",
       "      <td>@KanaanRema مبين من كلامه خليجي</td>\n",
       "    </tr>\n",
       "    <tr>\n",
       "      <th>3</th>\n",
       "      <td>1175471073770573824</td>\n",
       "      <td>IQ</td>\n",
       "      <td>@HAIDER76128900 يسلملي مرورك وروحك الحلوه💐</td>\n",
       "    </tr>\n",
       "    <tr>\n",
       "      <th>4</th>\n",
       "      <td>1175496913145217024</td>\n",
       "      <td>IQ</td>\n",
       "      <td>@hmo2406 وين هل الغيبه  اخ محمد 🌸🌺</td>\n",
       "    </tr>\n",
       "  </tbody>\n",
       "</table>\n",
       "</div>"
      ],
      "text/plain": [
       "                    id dialect  \\\n",
       "0  1175358310087892992      IQ   \n",
       "1  1175416117793349632      IQ   \n",
       "2  1175450108898565888      IQ   \n",
       "3  1175471073770573824      IQ   \n",
       "4  1175496913145217024      IQ   \n",
       "\n",
       "                                                text  \n",
       "0   @Nw8ieJUwaCAAreT لكن بالنهاية .. ينتفض .. يغير .  \n",
       "1  @7zNqXP0yrODdRjK يعني هذا محسوب على البشر .. ح...  \n",
       "2                    @KanaanRema مبين من كلامه خليجي  \n",
       "3         @HAIDER76128900 يسلملي مرورك وروحك الحلوه💐  \n",
       "4                 @hmo2406 وين هل الغيبه  اخ محمد 🌸🌺  "
      ]
     },
     "execution_count": 2,
     "metadata": {},
     "output_type": "execute_result"
    }
   ],
   "source": [
    "data = pd.read_csv(\"../input/arabic-dialect/dialect_data.csv\",lineterminator='\\n')\n",
    "data.head()"
   ]
  },
  {
   "cell_type": "code",
   "execution_count": 3,
   "id": "16ada0e2",
   "metadata": {
    "execution": {
     "iopub.execute_input": "2022-03-11T01:13:16.518613Z",
     "iopub.status.busy": "2022-03-11T01:13:16.517494Z",
     "iopub.status.idle": "2022-03-11T01:13:16.542455Z",
     "shell.execute_reply": "2022-03-11T01:13:16.541938Z",
     "shell.execute_reply.started": "2022-03-08T18:25:44.995874Z"
    },
    "papermill": {
     "duration": 0.184388,
     "end_time": "2022-03-11T01:13:16.542632",
     "exception": false,
     "start_time": "2022-03-11T01:13:16.358244",
     "status": "completed"
    },
    "tags": []
   },
   "outputs": [
    {
     "name": "stdout",
     "output_type": "stream",
     "text": [
      "<class 'pandas.core.frame.DataFrame'>\n",
      "RangeIndex: 458197 entries, 0 to 458196\n",
      "Data columns (total 3 columns):\n",
      " #   Column   Non-Null Count   Dtype \n",
      "---  ------   --------------   ----- \n",
      " 0   id       458197 non-null  int64 \n",
      " 1   dialect  458197 non-null  object\n",
      " 2   text     458197 non-null  object\n",
      "dtypes: int64(1), object(2)\n",
      "memory usage: 10.5+ MB\n"
     ]
    }
   ],
   "source": [
    "data.info()"
   ]
  },
  {
   "cell_type": "markdown",
   "id": "7b0caab0",
   "metadata": {
    "papermill": {
     "duration": 0.021005,
     "end_time": "2022-03-11T01:13:16.585360",
     "exception": false,
     "start_time": "2022-03-11T01:13:16.564355",
     "status": "completed"
    },
    "tags": []
   },
   "source": [
    "## Helper Functions and variables for cleaning\n"
   ]
  },
  {
   "cell_type": "code",
   "execution_count": 4,
   "id": "a0bee9ce",
   "metadata": {
    "execution": {
     "iopub.execute_input": "2022-03-11T01:13:16.639008Z",
     "iopub.status.busy": "2022-03-11T01:13:16.638260Z",
     "iopub.status.idle": "2022-03-11T01:13:16.642073Z",
     "shell.execute_reply": "2022-03-11T01:13:16.641521Z",
     "shell.execute_reply.started": "2022-03-08T18:25:50.202085Z"
    },
    "papermill": {
     "duration": 0.035491,
     "end_time": "2022-03-11T01:13:16.642232",
     "exception": false,
     "start_time": "2022-03-11T01:13:16.606741",
     "status": "completed"
    },
    "tags": []
   },
   "outputs": [],
   "source": [
    "# I don't need numbers and some tweets contained arabic numbers so I added them as punctuations.\n",
    "arabic_punctuations = '''`÷×؛<>()*&^%][،/:\"؟.,'{}~¦+|!”…“–•۱۲۳٤٥٦٧۸۹٠'''\n",
    "translator = str.maketrans('', '', arabic_punctuations)\n",
    "\n",
    "def give_emoji_free_text(text):\n",
    "    # this function is better than encoding emojis pattern because of optimization.\n",
    "    return emoji.get_emoji_regexp().sub(r'', text)\n",
    "\n",
    "def normalizeArabic(text):\n",
    "    text = text.strip()\n",
    "    text = re.sub(\"[إأٱآا]\", \"ا\", text)\n",
    "    text = re.sub(\"ى\", \"ي\", text)\n",
    "    text = re.sub(\"ؤ\", \"ء\", text)\n",
    "    text = re.sub(\"ئ\", \"ء\", text)\n",
    "    text = re.sub(\"ة\", \"ه\", text)\n",
    "    text = re.sub(\"گ\", \"ك\", text)\n",
    "    text = ''.join(ch for ch in text)\n",
    "    return text\n"
   ]
  },
  {
   "cell_type": "code",
   "execution_count": 5,
   "id": "65c2a0b7",
   "metadata": {
    "execution": {
     "iopub.execute_input": "2022-03-11T01:13:16.696739Z",
     "iopub.status.busy": "2022-03-11T01:13:16.696003Z",
     "iopub.status.idle": "2022-03-11T01:13:16.699385Z",
     "shell.execute_reply": "2022-03-11T01:13:16.698732Z",
     "shell.execute_reply.started": "2022-03-08T18:25:56.309771Z"
    },
    "papermill": {
     "duration": 0.035463,
     "end_time": "2022-03-11T01:13:16.699545",
     "exception": false,
     "start_time": "2022-03-11T01:13:16.664082",
     "status": "completed"
    },
    "tags": []
   },
   "outputs": [],
   "source": [
    "def pre_processing(text):\n",
    "\n",
    "    # removing longitaion\n",
    "    text = re.sub(r'(.)\\1+', r\"\\1\\1\", text)\n",
    "    # remove hashtags\n",
    "    text = re.sub(r'#', '', text)\n",
    "    # removing user name\n",
    "    text = re.sub('@[^\\s]+', ' ', text)\n",
    "    #Convert www.* or https?://* to \" \"\n",
    "    text = re.sub('((www\\.[^\\s]+)|(https?://[^\\s]+))',' ',text)\n",
    "    \n",
    "    # removing \\n because I found it in some tweets while insepecting the data\n",
    "    text = re.sub(r\"\\n\",\" \",text)\n",
    "    # removing english characters and numbers\n",
    "    text = re.sub(r'[A-Za-z0-9]', '', text)\n",
    "    # removing puntication at last because of # and @\n",
    "    text = text.translate(translator)\n",
    "\n",
    "    # this one to remove underscore from text because it was affecting hashtags when it was in puntications\n",
    "    text = re.sub(r'_',' ',text)\n",
    "\n",
    "    # removing emoji and tashikel\n",
    "    text = give_emoji_free_text(text)\n",
    "    noise = re.compile(\"\"\" ّ    | # Tashdid\n",
    "                             َ    | # Fatha\n",
    "                             ً    | # Tanwin Fath\n",
    "                             ُ    | # Damma\n",
    "                             ٌ    | # Tanwin Damm\n",
    "                             ِ    | # Kasra\n",
    "                             ٍ    | # Tanwin Kasr\n",
    "                             ْ     # Sukun\n",
    "                         \"\"\", re.VERBOSE)\n",
    "    text = re.sub(noise, '', text)\n",
    "\n",
    "    \n",
    "    # normalizing text\n",
    "    text = normalizeArabic(text)\n",
    "    \n",
    "    # removing space more than 1\n",
    "    text = re.sub(r'\\s{2,}', ' ', text)\n",
    "    \n",
    "    return text"
   ]
  },
  {
   "cell_type": "code",
   "execution_count": 6,
   "id": "6aa85ab6",
   "metadata": {
    "execution": {
     "iopub.execute_input": "2022-03-11T01:13:16.785691Z",
     "iopub.status.busy": "2022-03-11T01:13:16.780379Z",
     "iopub.status.idle": "2022-03-11T01:13:16.863748Z",
     "shell.execute_reply": "2022-03-11T01:13:16.863216Z",
     "shell.execute_reply.started": "2022-03-08T18:26:13.475691Z"
    },
    "papermill": {
     "duration": 0.142802,
     "end_time": "2022-03-11T01:13:16.863895",
     "exception": false,
     "start_time": "2022-03-11T01:13:16.721093",
     "status": "completed"
    },
    "tags": []
   },
   "outputs": [
    {
     "data": {
      "text/plain": [
       "'ﻋﻤﺮﻱ ﻣﺎ ﻓﻜﺮﺕ ﺃﺑﻴﻊ ﺍﻷﻳﺎﻡ ﺍﻟﺤﻠﻮﺓ ﺍﻟﻠﻲ ﻋﺸﺘﻬﺎ ﻣﻊ ﺃﻱ ﺷﺨﺺ ﻣﻤﻜﻦ ﺃﻧﺴﺤﺐ ﺃﺗﺮﺍﺟﻊ ﺃﺯﻋﻞ ﻭﺃﻛﺮﻩ ﺑﺸﻜﻞ ﻣﺆﻗﺖ ﻟﻜﻦ ﻋﻤﺮﻱ ﻣﺎ ﻓﻜﺮﺕ ﺃﺑﻴﻊ ﺍﻟﻤﺴﺄﻟﺔ ﻣﺴﺄﻟﺔ ﻣﺒﺪﺃ'"
      ]
     },
     "execution_count": 6,
     "metadata": {},
     "output_type": "execute_result"
    }
   ],
   "source": [
    "text = '• ۱۲۳٠ ﻋﻤﺮﻱ ﻣﺎ ﻓﻜﺮﺕ ﺃﺑﻴﻊ ﺍﻷﻳﺎﻡ ﺍﻟﺤﻠﻮﺓ ﺍﻟﻠﻲ ﻋﺸﺘﻬﺎ ﻣﻊ ﺃﻱ ﺷﺨﺺ . ﻣﻤﻜﻦ ﺃﻧﺴﺤﺐ، ﺃﺗﺮﺍﺟﻊ، ﺃﺯﻋﻞ ﻭﺃﻛﺮﻩ ﺑﺸﻜﻞ ﻣﺆﻗﺖ، ﻟﻜﻦ ﻋﻤﺮﻱ ﻣﺎ ﻓﻜﺮﺕ ﺃﺑﻴﻊ . ﺍﻟﻤﺴﺄﻟﺔ ﻣﺴﺄﻟﺔ ﻣﺒﺪﺃ 😸🥀'\n",
    "pre_processing(text)"
   ]
  },
  {
   "cell_type": "markdown",
   "id": "1f5e8878",
   "metadata": {
    "papermill": {
     "duration": 0.021444,
     "end_time": "2022-03-11T01:13:16.907022",
     "exception": false,
     "start_time": "2022-03-11T01:13:16.885578",
     "status": "completed"
    },
    "tags": []
   },
   "source": [
    "## Applying to all text"
   ]
  },
  {
   "cell_type": "code",
   "execution_count": 7,
   "id": "499bd083",
   "metadata": {
    "execution": {
     "iopub.execute_input": "2022-03-11T01:13:16.956300Z",
     "iopub.status.busy": "2022-03-11T01:13:16.955257Z",
     "iopub.status.idle": "2022-03-11T01:16:51.910052Z",
     "shell.execute_reply": "2022-03-11T01:16:51.909114Z",
     "shell.execute_reply.started": "2022-03-08T18:26:17.848999Z"
    },
    "papermill": {
     "duration": 214.980407,
     "end_time": "2022-03-11T01:16:51.910227",
     "exception": false,
     "start_time": "2022-03-11T01:13:16.929820",
     "status": "completed"
    },
    "tags": []
   },
   "outputs": [],
   "source": [
    "data['clean_text'] = data['text'].apply(lambda x: pre_processing(str(x))) "
   ]
  },
  {
   "cell_type": "markdown",
   "id": "7b809826",
   "metadata": {
    "papermill": {
     "duration": 0.021652,
     "end_time": "2022-03-11T01:16:51.956130",
     "exception": false,
     "start_time": "2022-03-11T01:16:51.934478",
     "status": "completed"
    },
    "tags": []
   },
   "source": [
    "## Inspecting data more"
   ]
  },
  {
   "cell_type": "code",
   "execution_count": 8,
   "id": "9a4f7564",
   "metadata": {
    "execution": {
     "iopub.execute_input": "2022-03-11T01:16:52.004055Z",
     "iopub.status.busy": "2022-03-11T01:16:52.003320Z",
     "iopub.status.idle": "2022-03-11T01:16:52.353371Z",
     "shell.execute_reply": "2022-03-11T01:16:52.352801Z",
     "shell.execute_reply.started": "2022-03-08T18:29:39.978233Z"
    },
    "papermill": {
     "duration": 0.375428,
     "end_time": "2022-03-11T01:16:52.353522",
     "exception": false,
     "start_time": "2022-03-11T01:16:51.978094",
     "status": "completed"
    },
    "tags": []
   },
   "outputs": [],
   "source": [
    "# this cell to make sure that there is no length == 0 in any text!\n",
    "\n",
    "data['length'] = data['clean_text'].apply(lambda x: len(x)) "
   ]
  },
  {
   "cell_type": "code",
   "execution_count": 9,
   "id": "c06ed529",
   "metadata": {
    "execution": {
     "iopub.execute_input": "2022-03-11T01:16:52.401791Z",
     "iopub.status.busy": "2022-03-11T01:16:52.401064Z",
     "iopub.status.idle": "2022-03-11T01:16:52.533346Z",
     "shell.execute_reply": "2022-03-11T01:16:52.532751Z",
     "shell.execute_reply.started": "2022-03-08T18:30:43.803997Z"
    },
    "papermill": {
     "duration": 0.157773,
     "end_time": "2022-03-11T01:16:52.533495",
     "exception": false,
     "start_time": "2022-03-11T01:16:52.375722",
     "status": "completed"
    },
    "tags": []
   },
   "outputs": [
    {
     "data": {
      "text/html": [
       "<div>\n",
       "<style scoped>\n",
       "    .dataframe tbody tr th:only-of-type {\n",
       "        vertical-align: middle;\n",
       "    }\n",
       "\n",
       "    .dataframe tbody tr th {\n",
       "        vertical-align: top;\n",
       "    }\n",
       "\n",
       "    .dataframe thead th {\n",
       "        text-align: right;\n",
       "    }\n",
       "</style>\n",
       "<table border=\"1\" class=\"dataframe\">\n",
       "  <thead>\n",
       "    <tr style=\"text-align: right;\">\n",
       "      <th></th>\n",
       "      <th>id</th>\n",
       "      <th>dialect</th>\n",
       "      <th>text</th>\n",
       "      <th>clean_text</th>\n",
       "      <th>length</th>\n",
       "    </tr>\n",
       "  </thead>\n",
       "  <tbody>\n",
       "    <tr>\n",
       "      <th>1404</th>\n",
       "      <td>446738898316959680</td>\n",
       "      <td>IQ</td>\n",
       "      <td>مو  ؟... لو مو مو ؟. http://t.co/Xe7xDjh7lA</td>\n",
       "      <td>مو لو مو مو</td>\n",
       "      <td>11</td>\n",
       "    </tr>\n",
       "    <tr>\n",
       "      <th>3914</th>\n",
       "      <td>1165654350418649088</td>\n",
       "      <td>IQ</td>\n",
       "      <td>@dthvadk مو صح لو غلط</td>\n",
       "      <td>مو صح لو غلط</td>\n",
       "      <td>12</td>\n",
       "    </tr>\n",
       "    <tr>\n",
       "      <th>20396</th>\n",
       "      <td>1175015239508799488</td>\n",
       "      <td>LY</td>\n",
       "      <td>@adbav هههههه تي شن في 😂</td>\n",
       "      <td>هه تي شن في</td>\n",
       "      <td>11</td>\n",
       "    </tr>\n",
       "    <tr>\n",
       "      <th>21248</th>\n",
       "      <td>1140048130844635136</td>\n",
       "      <td>LY</td>\n",
       "      <td>@abdoosalama29 ههههههههههههههههههههههههههههههه...</td>\n",
       "      <td>هه تي اي بخت</td>\n",
       "      <td>12</td>\n",
       "    </tr>\n",
       "    <tr>\n",
       "      <th>21288</th>\n",
       "      <td>1137851453731680384</td>\n",
       "      <td>LY</td>\n",
       "      <td>ههههههههههههه تي شن في https://t.co/GSND4BokZ2</td>\n",
       "      <td>هه تي شن في</td>\n",
       "      <td>11</td>\n",
       "    </tr>\n",
       "    <tr>\n",
       "      <th>...</th>\n",
       "      <td>...</td>\n",
       "      <td>...</td>\n",
       "      <td>...</td>\n",
       "      <td>...</td>\n",
       "      <td>...</td>\n",
       "    </tr>\n",
       "    <tr>\n",
       "      <th>437244</th>\n",
       "      <td>1064234570021777408</td>\n",
       "      <td>BH</td>\n",
       "      <td>@DER3_ALJAZEERA @Toomaa_6 @aml_1_1 لآآآآآآآ آآ...</td>\n",
       "      <td>لاا اا اا اا</td>\n",
       "      <td>12</td>\n",
       "    </tr>\n",
       "    <tr>\n",
       "      <th>441174</th>\n",
       "      <td>1173995178048348160</td>\n",
       "      <td>BH</td>\n",
       "      <td>@hamadaoos212 @Toomaa_6 @umsaleh5_ صج صج ، بد بخت</td>\n",
       "      <td>صج صج بد بخت</td>\n",
       "      <td>12</td>\n",
       "    </tr>\n",
       "    <tr>\n",
       "      <th>442686</th>\n",
       "      <td>1141748042737041408</td>\n",
       "      <td>BH</td>\n",
       "      <td>@AliFadhel87 ما في اقل ل 🤔</td>\n",
       "      <td>ما في اقل ل</td>\n",
       "      <td>11</td>\n",
       "    </tr>\n",
       "    <tr>\n",
       "      <th>451908</th>\n",
       "      <td>991730844489437184</td>\n",
       "      <td>BH</td>\n",
       "      <td>@greeen_mojo هههههههه يهف كل شي ..</td>\n",
       "      <td>هه يهف كل شي</td>\n",
       "      <td>12</td>\n",
       "    </tr>\n",
       "    <tr>\n",
       "      <th>452325</th>\n",
       "      <td>964234786394042368</td>\n",
       "      <td>BH</td>\n",
       "      <td>@alfarooo8 مع و من قلب</td>\n",
       "      <td>مع و من قلب</td>\n",
       "      <td>11</td>\n",
       "    </tr>\n",
       "  </tbody>\n",
       "</table>\n",
       "<p>121 rows × 5 columns</p>\n",
       "</div>"
      ],
      "text/plain": [
       "                         id dialect  \\\n",
       "1404     446738898316959680      IQ   \n",
       "3914    1165654350418649088      IQ   \n",
       "20396   1175015239508799488      LY   \n",
       "21248   1140048130844635136      LY   \n",
       "21288   1137851453731680384      LY   \n",
       "...                     ...     ...   \n",
       "437244  1064234570021777408      BH   \n",
       "441174  1173995178048348160      BH   \n",
       "442686  1141748042737041408      BH   \n",
       "451908   991730844489437184      BH   \n",
       "452325   964234786394042368      BH   \n",
       "\n",
       "                                                     text    clean_text  \\\n",
       "1404          مو  ؟... لو مو مو ؟. http://t.co/Xe7xDjh7lA   مو لو مو مو   \n",
       "3914                                @dthvadk مو صح لو غلط  مو صح لو غلط   \n",
       "20396                            @adbav هههههه تي شن في 😂   هه تي شن في   \n",
       "21248   @abdoosalama29 ههههههههههههههههههههههههههههههه...  هه تي اي بخت   \n",
       "21288      ههههههههههههه تي شن في https://t.co/GSND4BokZ2   هه تي شن في   \n",
       "...                                                   ...           ...   \n",
       "437244  @DER3_ALJAZEERA @Toomaa_6 @aml_1_1 لآآآآآآآ آآ...  لاا اا اا اا   \n",
       "441174  @hamadaoos212 @Toomaa_6 @umsaleh5_ صج صج ، بد بخت  صج صج بد بخت   \n",
       "442686                         @AliFadhel87 ما في اقل ل 🤔   ما في اقل ل   \n",
       "451908                 @greeen_mojo هههههههه يهف كل شي ..  هه يهف كل شي   \n",
       "452325                             @alfarooo8 مع و من قلب   مع و من قلب   \n",
       "\n",
       "        length  \n",
       "1404        11  \n",
       "3914        12  \n",
       "20396       11  \n",
       "21248       12  \n",
       "21288       11  \n",
       "...        ...  \n",
       "437244      12  \n",
       "441174      12  \n",
       "442686      11  \n",
       "451908      12  \n",
       "452325      11  \n",
       "\n",
       "[121 rows x 5 columns]"
      ]
     },
     "execution_count": 9,
     "metadata": {},
     "output_type": "execute_result"
    }
   ],
   "source": [
    "data[data['length']<13]"
   ]
  },
  {
   "cell_type": "markdown",
   "id": "d7928b90",
   "metadata": {
    "papermill": {
     "duration": 0.025528,
     "end_time": "2022-03-11T01:16:52.582922",
     "exception": false,
     "start_time": "2022-03-11T01:16:52.557394",
     "status": "completed"
    },
    "tags": []
   },
   "source": [
    "### tweets with length less than 12 seems unimportant so I'll drop them."
   ]
  },
  {
   "cell_type": "code",
   "execution_count": 10,
   "id": "a2d3c196",
   "metadata": {
    "execution": {
     "iopub.execute_input": "2022-03-11T01:16:52.635899Z",
     "iopub.status.busy": "2022-03-11T01:16:52.635220Z",
     "iopub.status.idle": "2022-03-11T01:16:52.697412Z",
     "shell.execute_reply": "2022-03-11T01:16:52.696713Z",
     "shell.execute_reply.started": "2022-03-08T18:31:18.471224Z"
    },
    "papermill": {
     "duration": 0.0916,
     "end_time": "2022-03-11T01:16:52.697592",
     "exception": false,
     "start_time": "2022-03-11T01:16:52.605992",
     "status": "completed"
    },
    "tags": []
   },
   "outputs": [],
   "source": [
    "final_data = data[data['length']>11]"
   ]
  },
  {
   "cell_type": "code",
   "execution_count": 11,
   "id": "d66f0708",
   "metadata": {
    "execution": {
     "iopub.execute_input": "2022-03-11T01:16:52.757124Z",
     "iopub.status.busy": "2022-03-11T01:16:52.756393Z",
     "iopub.status.idle": "2022-03-11T01:16:52.928701Z",
     "shell.execute_reply": "2022-03-11T01:16:52.929262Z",
     "shell.execute_reply.started": "2022-03-08T18:31:20.131845Z"
    },
    "papermill": {
     "duration": 0.208927,
     "end_time": "2022-03-11T01:16:52.929440",
     "exception": false,
     "start_time": "2022-03-11T01:16:52.720513",
     "status": "completed"
    },
    "tags": []
   },
   "outputs": [
    {
     "name": "stdout",
     "output_type": "stream",
     "text": [
      "<class 'pandas.core.frame.DataFrame'>\n",
      "Int64Index: 458149 entries, 0 to 458196\n",
      "Data columns (total 4 columns):\n",
      " #   Column      Non-Null Count   Dtype \n",
      "---  ------      --------------   ----- \n",
      " 0   id          458149 non-null  int64 \n",
      " 1   dialect     458149 non-null  object\n",
      " 2   clean_text  458149 non-null  object\n",
      " 3   length      458149 non-null  int64 \n",
      "dtypes: int64(2), object(2)\n",
      "memory usage: 17.5+ MB\n"
     ]
    },
    {
     "name": "stderr",
     "output_type": "stream",
     "text": [
      "/opt/conda/lib/python3.7/site-packages/pandas/core/frame.py:4913: SettingWithCopyWarning: \n",
      "A value is trying to be set on a copy of a slice from a DataFrame\n",
      "\n",
      "See the caveats in the documentation: https://pandas.pydata.org/pandas-docs/stable/user_guide/indexing.html#returning-a-view-versus-a-copy\n",
      "  errors=errors,\n"
     ]
    }
   ],
   "source": [
    "#final_data.info()\n",
    "# dropping the text before cleaning column\n",
    "\n",
    "final_data.drop(\"text\", axis=1, inplace=True)\n",
    "final_data.info()"
   ]
  },
  {
   "cell_type": "markdown",
   "id": "ee5032b1",
   "metadata": {
    "papermill": {
     "duration": 0.023051,
     "end_time": "2022-03-11T01:16:52.977637",
     "exception": false,
     "start_time": "2022-03-11T01:16:52.954586",
     "status": "completed"
    },
    "tags": []
   },
   "source": [
    "### Spliting the data for train, val, test."
   ]
  },
  {
   "cell_type": "markdown",
   "id": "363c7aa5",
   "metadata": {
    "papermill": {
     "duration": 0.023527,
     "end_time": "2022-03-11T01:16:53.024913",
     "exception": false,
     "start_time": "2022-03-11T01:16:53.001386",
     "status": "completed"
    },
    "tags": []
   },
   "source": [
    "### First let's split train and (val + test) 60%-40% then val and test 20%-20%"
   ]
  },
  {
   "cell_type": "code",
   "execution_count": 12,
   "id": "335006c6",
   "metadata": {
    "execution": {
     "iopub.execute_input": "2022-03-11T01:16:53.110911Z",
     "iopub.status.busy": "2022-03-11T01:16:53.110218Z",
     "iopub.status.idle": "2022-03-11T01:16:54.109076Z",
     "shell.execute_reply": "2022-03-11T01:16:54.109591Z",
     "shell.execute_reply.started": "2022-03-08T18:31:24.799089Z"
    },
    "papermill": {
     "duration": 1.061119,
     "end_time": "2022-03-11T01:16:54.109786",
     "exception": false,
     "start_time": "2022-03-11T01:16:53.048667",
     "status": "completed"
    },
    "tags": []
   },
   "outputs": [],
   "source": [
    "train_df,test_val_df = train_test_split(final_data, test_size=0.2, random_state=42,stratify = final_data['dialect'])\n",
    "test_df,val_df = train_test_split(test_val_df, test_size=0.5, random_state=42,stratify = test_val_df['dialect'])"
   ]
  },
  {
   "cell_type": "code",
   "execution_count": 13,
   "id": "597f843b",
   "metadata": {
    "execution": {
     "iopub.execute_input": "2022-03-11T01:16:54.160982Z",
     "iopub.status.busy": "2022-03-11T01:16:54.160254Z",
     "iopub.status.idle": "2022-03-11T01:16:54.165707Z",
     "shell.execute_reply": "2022-03-11T01:16:54.165051Z",
     "shell.execute_reply.started": "2022-03-08T18:31:26.582232Z"
    },
    "papermill": {
     "duration": 0.032716,
     "end_time": "2022-03-11T01:16:54.165858",
     "exception": false,
     "start_time": "2022-03-11T01:16:54.133142",
     "status": "completed"
    },
    "tags": []
   },
   "outputs": [
    {
     "name": "stdout",
     "output_type": "stream",
     "text": [
      "366519\n",
      "45815\n",
      "45815\n"
     ]
    }
   ],
   "source": [
    "print(len(train_df))\n",
    "print(len(test_df))\n",
    "print(len(val_df))"
   ]
  },
  {
   "cell_type": "code",
   "execution_count": 14,
   "id": "92394e44",
   "metadata": {
    "execution": {
     "iopub.execute_input": "2022-03-11T01:16:54.219623Z",
     "iopub.status.busy": "2022-03-11T01:16:54.218908Z",
     "iopub.status.idle": "2022-03-11T01:16:57.505882Z",
     "shell.execute_reply": "2022-03-11T01:16:57.505177Z",
     "shell.execute_reply.started": "2022-03-08T18:31:31.655682Z"
    },
    "papermill": {
     "duration": 3.316347,
     "end_time": "2022-03-11T01:16:57.506028",
     "exception": false,
     "start_time": "2022-03-11T01:16:54.189681",
     "status": "completed"
    },
    "tags": []
   },
   "outputs": [],
   "source": [
    "# save them in csv files for next steps\n",
    "\n",
    "train_df.to_csv(\"train.csv\",index=False)\n",
    "test_df.to_csv(\"test.csv\",index=False)\n",
    "val_df.to_csv(\"validation.csv\",index=False)"
   ]
  },
  {
   "cell_type": "markdown",
   "id": "537f6ba8",
   "metadata": {
    "papermill": {
     "duration": 0.023497,
     "end_time": "2022-03-11T01:16:57.554603",
     "exception": false,
     "start_time": "2022-03-11T01:16:57.531106",
     "status": "completed"
    },
    "tags": []
   },
   "source": [
    "### Pre-Processing techniques used:\n",
    "\n",
    "- Removing all numbers, emojis and tashkill because we don't need them in predicting the dialect.\n",
    "- Normalize the text.\n",
    "- Removing punctautions."
   ]
  }
 ],
 "metadata": {
  "kernelspec": {
   "display_name": "Python 3",
   "language": "python",
   "name": "python3"
  },
  "language_info": {
   "codemirror_mode": {
    "name": "ipython",
    "version": 3
   },
   "file_extension": ".py",
   "mimetype": "text/x-python",
   "name": "python",
   "nbconvert_exporter": "python",
   "pygments_lexer": "ipython3",
   "version": "3.7.12"
  },
  "papermill": {
   "default_parameters": {},
   "duration": 238.42086,
   "end_time": "2022-03-11T01:16:58.693334",
   "environment_variables": {},
   "exception": null,
   "input_path": "__notebook__.ipynb",
   "output_path": "__notebook__.ipynb",
   "parameters": {},
   "start_time": "2022-03-11T01:13:00.272474",
   "version": "2.3.3"
  }
 },
 "nbformat": 4,
 "nbformat_minor": 5
}
