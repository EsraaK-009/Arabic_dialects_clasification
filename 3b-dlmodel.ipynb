{
 "cells": [
  {
   "cell_type": "markdown",
   "id": "ffdaba1f",
   "metadata": {
    "papermill": {
     "duration": 0.027154,
     "end_time": "2022-03-10T19:57:00.942867",
     "exception": false,
     "start_time": "2022-03-10T19:57:00.915713",
     "status": "completed"
    },
    "tags": []
   },
   "source": [
    "# Deep Learning Model for Arabic dialect classification"
   ]
  },
  {
   "cell_type": "markdown",
   "id": "270d5a50",
   "metadata": {
    "papermill": {
     "duration": 0.046158,
     "end_time": "2022-03-10T19:57:01.030549",
     "exception": false,
     "start_time": "2022-03-10T19:57:00.984391",
     "status": "completed"
    },
    "tags": []
   },
   "source": [
    "First, let's import libraries and get the data."
   ]
  },
  {
   "cell_type": "code",
   "execution_count": 1,
   "id": "74c317d5",
   "metadata": {
    "_cell_guid": "b1076dfc-b9ad-4769-8c92-a6c4dae69d19",
    "_uuid": "8f2839f25d086af736a60e9eeb907d3b93b6e0e5",
    "execution": {
     "iopub.execute_input": "2022-03-10T19:57:01.089191Z",
     "iopub.status.busy": "2022-03-10T19:57:01.088428Z",
     "iopub.status.idle": "2022-03-10T19:57:06.609939Z",
     "shell.execute_reply": "2022-03-10T19:57:06.609379Z",
     "shell.execute_reply.started": "2022-03-10T19:39:07.339518Z"
    },
    "papermill": {
     "duration": 5.555613,
     "end_time": "2022-03-10T19:57:06.610111",
     "exception": false,
     "start_time": "2022-03-10T19:57:01.054498",
     "status": "completed"
    },
    "tags": []
   },
   "outputs": [],
   "source": [
    "import keras\n",
    "import pandas as pd\n",
    "from keras.callbacks import TensorBoard\n",
    "from keras.preprocessing.text import Tokenizer\n",
    "from keras.preprocessing.sequence import pad_sequences\n",
    "from sklearn.preprocessing import LabelEncoder\n",
    "from keras.models import Sequential\n",
    "from keras import layers\n",
    "from keras.callbacks import EarlyStopping\n",
    "import numpy as np"
   ]
  },
  {
   "cell_type": "code",
   "execution_count": 2,
   "id": "87e00fc4",
   "metadata": {
    "execution": {
     "iopub.execute_input": "2022-03-10T19:57:06.663412Z",
     "iopub.status.busy": "2022-03-10T19:57:06.662827Z",
     "iopub.status.idle": "2022-03-10T19:57:08.987782Z",
     "shell.execute_reply": "2022-03-10T19:57:08.987209Z",
     "shell.execute_reply.started": "2022-03-10T19:39:12.616078Z"
    },
    "papermill": {
     "duration": 2.353456,
     "end_time": "2022-03-10T19:57:08.987920",
     "exception": false,
     "start_time": "2022-03-10T19:57:06.634464",
     "status": "completed"
    },
    "tags": []
   },
   "outputs": [],
   "source": [
    "train = pd.read_csv(\"../input/clean-dialect-text/train.csv\",lineterminator='\\n')\n",
    "val = pd.read_csv(\"../input/clean-dialect-text/validation.csv\",lineterminator='\\n')"
   ]
  },
  {
   "cell_type": "code",
   "execution_count": 3,
   "id": "c01652c0",
   "metadata": {
    "execution": {
     "iopub.execute_input": "2022-03-10T19:57:09.047621Z",
     "iopub.status.busy": "2022-03-10T19:57:09.040258Z",
     "iopub.status.idle": "2022-03-10T19:57:09.049874Z",
     "shell.execute_reply": "2022-03-10T19:57:09.049461Z",
     "shell.execute_reply.started": "2022-03-10T19:39:16.297368Z"
    },
    "papermill": {
     "duration": 0.038003,
     "end_time": "2022-03-10T19:57:09.049988",
     "exception": false,
     "start_time": "2022-03-10T19:57:09.011985",
     "status": "completed"
    },
    "tags": []
   },
   "outputs": [],
   "source": [
    "y = train['dialect']\n",
    "X = train['clean_text']\n",
    "y_val = val['dialect']\n",
    "x_val = val['clean_text']"
   ]
  },
  {
   "cell_type": "markdown",
   "id": "5b54dcab",
   "metadata": {
    "papermill": {
     "duration": 0.023321,
     "end_time": "2022-03-10T19:57:09.097575",
     "exception": false,
     "start_time": "2022-03-10T19:57:09.074254",
     "status": "completed"
    },
    "tags": []
   },
   "source": [
    "## 1- Convert input-data from text to tokens and output-data to labels"
   ]
  },
  {
   "cell_type": "code",
   "execution_count": 4,
   "id": "dc843040",
   "metadata": {
    "execution": {
     "iopub.execute_input": "2022-03-10T19:57:09.192989Z",
     "iopub.status.busy": "2022-03-10T19:57:09.182660Z",
     "iopub.status.idle": "2022-03-10T19:57:27.865302Z",
     "shell.execute_reply": "2022-03-10T19:57:27.864397Z",
     "shell.execute_reply.started": "2022-03-10T19:39:18.167626Z"
    },
    "papermill": {
     "duration": 18.744294,
     "end_time": "2022-03-10T19:57:27.865446",
     "exception": false,
     "start_time": "2022-03-10T19:57:09.121152",
     "status": "completed"
    },
    "tags": []
   },
   "outputs": [],
   "source": [
    "tokenizer = Tokenizer()\n",
    "tokenizer.fit_on_texts(X)\n",
    "\n",
    "X_train_tokens = tokenizer.texts_to_sequences(X)\n",
    "X_val_tokens = tokenizer.texts_to_sequences(x_val)\n",
    "vocab_size = len(tokenizer.word_index) + 1 "
   ]
  },
  {
   "cell_type": "code",
   "execution_count": 5,
   "id": "3e850344",
   "metadata": {
    "execution": {
     "iopub.execute_input": "2022-03-10T19:57:27.919420Z",
     "iopub.status.busy": "2022-03-10T19:57:27.918745Z",
     "iopub.status.idle": "2022-03-10T19:57:27.922058Z",
     "shell.execute_reply": "2022-03-10T19:57:27.922568Z",
     "shell.execute_reply.started": "2022-03-10T18:53:33.786629Z"
    },
    "papermill": {
     "duration": 0.033438,
     "end_time": "2022-03-10T19:57:27.922712",
     "exception": false,
     "start_time": "2022-03-10T19:57:27.889274",
     "status": "completed"
    },
    "tags": []
   },
   "outputs": [
    {
     "data": {
      "text/plain": [
       "400865"
      ]
     },
     "execution_count": 5,
     "metadata": {},
     "output_type": "execute_result"
    }
   ],
   "source": [
    "vocab_size"
   ]
  },
  {
   "cell_type": "code",
   "execution_count": 6,
   "id": "ab3ee142",
   "metadata": {
    "execution": {
     "iopub.execute_input": "2022-03-10T19:57:28.009900Z",
     "iopub.status.busy": "2022-03-10T19:57:27.994474Z",
     "iopub.status.idle": "2022-03-10T19:57:28.083453Z",
     "shell.execute_reply": "2022-03-10T19:57:28.082674Z",
     "shell.execute_reply.started": "2022-03-10T19:39:39.985280Z"
    },
    "papermill": {
     "duration": 0.136839,
     "end_time": "2022-03-10T19:57:28.083587",
     "exception": false,
     "start_time": "2022-03-10T19:57:27.946748",
     "status": "completed"
    },
    "tags": []
   },
   "outputs": [],
   "source": [
    "encoder = LabelEncoder()\n",
    "\n",
    "y_train = encoder.fit_transform(y)\n",
    "y_val = encoder.transform(y_val)"
   ]
  },
  {
   "cell_type": "code",
   "execution_count": 7,
   "id": "32ddc68d",
   "metadata": {
    "execution": {
     "iopub.execute_input": "2022-03-10T19:57:28.138561Z",
     "iopub.status.busy": "2022-03-10T19:57:28.137943Z",
     "iopub.status.idle": "2022-03-10T19:57:28.140546Z",
     "shell.execute_reply": "2022-03-10T19:57:28.140935Z",
     "shell.execute_reply.started": "2022-03-10T19:15:21.931309Z"
    },
    "papermill": {
     "duration": 0.032047,
     "end_time": "2022-03-10T19:57:28.141053",
     "exception": false,
     "start_time": "2022-03-10T19:57:28.109006",
     "status": "completed"
    },
    "tags": []
   },
   "outputs": [
    {
     "data": {
      "text/plain": [
       "array([12,  8,  8, 11,  5])"
      ]
     },
     "execution_count": 7,
     "metadata": {},
     "output_type": "execute_result"
    }
   ],
   "source": [
    "y_val[0:5]"
   ]
  },
  {
   "cell_type": "markdown",
   "id": "6c3e4f47",
   "metadata": {
    "papermill": {
     "duration": 0.024687,
     "end_time": "2022-03-10T19:57:28.190275",
     "exception": false,
     "start_time": "2022-03-10T19:57:28.165588",
     "status": "completed"
    },
    "tags": []
   },
   "source": [
    "## 2- Padding the Input"
   ]
  },
  {
   "cell_type": "markdown",
   "id": "88c77324",
   "metadata": {
    "papermill": {
     "duration": 0.023902,
     "end_time": "2022-03-10T19:57:28.238375",
     "exception": false,
     "start_time": "2022-03-10T19:57:28.214473",
     "status": "completed"
    },
    "tags": []
   },
   "source": [
    "We need to make sure that input from both validation and input are on the same length."
   ]
  },
  {
   "cell_type": "markdown",
   "id": "69733583",
   "metadata": {
    "papermill": {
     "duration": 0.024182,
     "end_time": "2022-03-10T19:57:28.286555",
     "exception": false,
     "start_time": "2022-03-10T19:57:28.262373",
     "status": "completed"
    },
    "tags": []
   },
   "source": [
    "For this I checked the longest sequence and adding more to it for all."
   ]
  },
  {
   "cell_type": "code",
   "execution_count": 8,
   "id": "50daef57",
   "metadata": {
    "execution": {
     "iopub.execute_input": "2022-03-10T19:57:28.338590Z",
     "iopub.status.busy": "2022-03-10T19:57:28.337844Z",
     "iopub.status.idle": "2022-03-10T19:57:28.340399Z",
     "shell.execute_reply": "2022-03-10T19:57:28.339863Z",
     "shell.execute_reply.started": "2022-03-10T18:54:00.345346Z"
    },
    "papermill": {
     "duration": 0.0299,
     "end_time": "2022-03-10T19:57:28.340505",
     "exception": false,
     "start_time": "2022-03-10T19:57:28.310605",
     "status": "completed"
    },
    "tags": []
   },
   "outputs": [],
   "source": [
    "# max_length = 0\n",
    "\n",
    "# for lis in X_train_tokens:\n",
    "#     length = len(lis)\n",
    "#     if length > max_length:\n",
    "#         max_length = length\n",
    "    \n",
    "    \n",
    "# print(max_length)"
   ]
  },
  {
   "cell_type": "code",
   "execution_count": 9,
   "id": "b5a081fc",
   "metadata": {
    "execution": {
     "iopub.execute_input": "2022-03-10T19:57:28.426642Z",
     "iopub.status.busy": "2022-03-10T19:57:28.411195Z",
     "iopub.status.idle": "2022-03-10T19:57:30.566299Z",
     "shell.execute_reply": "2022-03-10T19:57:30.565415Z",
     "shell.execute_reply.started": "2022-03-10T19:39:45.719874Z"
    },
    "papermill": {
     "duration": 2.201922,
     "end_time": "2022-03-10T19:57:30.566442",
     "exception": false,
     "start_time": "2022-03-10T19:57:28.364520",
     "status": "completed"
    },
    "tags": []
   },
   "outputs": [],
   "source": [
    "maxlen = 100\n",
    "\n",
    "X_train = pad_sequences(X_train_tokens, padding='post', maxlen=maxlen)\n",
    "X_val = pad_sequences(X_val_tokens, padding='post', maxlen=maxlen)"
   ]
  },
  {
   "cell_type": "markdown",
   "id": "d0ef0f1c",
   "metadata": {
    "papermill": {
     "duration": 0.02457,
     "end_time": "2022-03-10T19:57:30.615406",
     "exception": false,
     "start_time": "2022-03-10T19:57:30.590836",
     "status": "completed"
    },
    "tags": []
   },
   "source": [
    "## 3- Making the model"
   ]
  },
  {
   "cell_type": "markdown",
   "id": "253e5acb",
   "metadata": {
    "papermill": {
     "duration": 0.024058,
     "end_time": "2022-03-10T19:57:30.663747",
     "exception": false,
     "start_time": "2022-03-10T19:57:30.639689",
     "status": "completed"
    },
    "tags": []
   },
   "source": [
    "- Embedding size: choosed by trying for different numbers between 100-300\n",
    "- After trying different layers, it showed that BILSTM is slightly better.\n",
    "- There is no f1_score in keras so I'll use tensorflow addons."
   ]
  },
  {
   "cell_type": "code",
   "execution_count": 10,
   "id": "5c735f7a",
   "metadata": {
    "execution": {
     "iopub.execute_input": "2022-03-10T19:57:30.715421Z",
     "iopub.status.busy": "2022-03-10T19:57:30.714763Z",
     "iopub.status.idle": "2022-03-10T19:57:30.717213Z",
     "shell.execute_reply": "2022-03-10T19:57:30.717590Z",
     "shell.execute_reply.started": "2022-03-10T19:23:24.118902Z"
    },
    "papermill": {
     "duration": 0.029956,
     "end_time": "2022-03-10T19:57:30.717734",
     "exception": false,
     "start_time": "2022-03-10T19:57:30.687778",
     "status": "completed"
    },
    "tags": []
   },
   "outputs": [],
   "source": [
    "# import tensorflow_addons as tfa \n",
    "\n",
    "# f1 = tfa.metrics.F1Score( average='macro')"
   ]
  },
  {
   "cell_type": "code",
   "execution_count": 11,
   "id": "df605585",
   "metadata": {
    "execution": {
     "iopub.execute_input": "2022-03-10T19:57:30.771941Z",
     "iopub.status.busy": "2022-03-10T19:57:30.771449Z",
     "iopub.status.idle": "2022-03-10T19:57:33.503285Z",
     "shell.execute_reply": "2022-03-10T19:57:33.502752Z",
     "shell.execute_reply.started": "2022-03-10T19:39:51.118259Z"
    },
    "papermill": {
     "duration": 2.761678,
     "end_time": "2022-03-10T19:57:33.503440",
     "exception": false,
     "start_time": "2022-03-10T19:57:30.741762",
     "status": "completed"
    },
    "tags": []
   },
   "outputs": [
    {
     "name": "stderr",
     "output_type": "stream",
     "text": [
      "2022-03-10 19:57:30.844291: I tensorflow/stream_executor/cuda/cuda_gpu_executor.cc:937] successful NUMA node read from SysFS had negative value (-1), but there must be at least one NUMA node, so returning NUMA node zero\n",
      "2022-03-10 19:57:30.935310: I tensorflow/stream_executor/cuda/cuda_gpu_executor.cc:937] successful NUMA node read from SysFS had negative value (-1), but there must be at least one NUMA node, so returning NUMA node zero\n",
      "2022-03-10 19:57:30.936013: I tensorflow/stream_executor/cuda/cuda_gpu_executor.cc:937] successful NUMA node read from SysFS had negative value (-1), but there must be at least one NUMA node, so returning NUMA node zero\n",
      "2022-03-10 19:57:30.937099: I tensorflow/core/platform/cpu_feature_guard.cc:142] This TensorFlow binary is optimized with oneAPI Deep Neural Network Library (oneDNN) to use the following CPU instructions in performance-critical operations:  AVX2 AVX512F FMA\n",
      "To enable them in other operations, rebuild TensorFlow with the appropriate compiler flags.\n",
      "2022-03-10 19:57:30.938065: I tensorflow/stream_executor/cuda/cuda_gpu_executor.cc:937] successful NUMA node read from SysFS had negative value (-1), but there must be at least one NUMA node, so returning NUMA node zero\n",
      "2022-03-10 19:57:30.938739: I tensorflow/stream_executor/cuda/cuda_gpu_executor.cc:937] successful NUMA node read from SysFS had negative value (-1), but there must be at least one NUMA node, so returning NUMA node zero\n",
      "2022-03-10 19:57:30.939412: I tensorflow/stream_executor/cuda/cuda_gpu_executor.cc:937] successful NUMA node read from SysFS had negative value (-1), but there must be at least one NUMA node, so returning NUMA node zero\n",
      "2022-03-10 19:57:32.693242: I tensorflow/stream_executor/cuda/cuda_gpu_executor.cc:937] successful NUMA node read from SysFS had negative value (-1), but there must be at least one NUMA node, so returning NUMA node zero\n",
      "2022-03-10 19:57:32.694049: I tensorflow/stream_executor/cuda/cuda_gpu_executor.cc:937] successful NUMA node read from SysFS had negative value (-1), but there must be at least one NUMA node, so returning NUMA node zero\n",
      "2022-03-10 19:57:32.694807: I tensorflow/stream_executor/cuda/cuda_gpu_executor.cc:937] successful NUMA node read from SysFS had negative value (-1), but there must be at least one NUMA node, so returning NUMA node zero\n",
      "2022-03-10 19:57:32.695487: I tensorflow/core/common_runtime/gpu/gpu_device.cc:1510] Created device /job:localhost/replica:0/task:0/device:GPU:0 with 15403 MB memory:  -> device: 0, name: Tesla P100-PCIE-16GB, pci bus id: 0000:00:04.0, compute capability: 6.0\n"
     ]
    },
    {
     "name": "stdout",
     "output_type": "stream",
     "text": [
      "Model: \"sequential\"\n",
      "_________________________________________________________________\n",
      "Layer (type)                 Output Shape              Param #   \n",
      "=================================================================\n",
      "embedding (Embedding)        (None, 100, 200)          80173000  \n",
      "_________________________________________________________________\n",
      "bidirectional (Bidirectional (None, 128)               135680    \n",
      "_________________________________________________________________\n",
      "dense (Dense)                (None, 64)                8256      \n",
      "_________________________________________________________________\n",
      "dropout (Dropout)            (None, 64)                0         \n",
      "_________________________________________________________________\n",
      "dense_1 (Dense)              (None, 32)                2080      \n",
      "_________________________________________________________________\n",
      "dense_2 (Dense)              (None, 18)                594       \n",
      "=================================================================\n",
      "Total params: 80,319,610\n",
      "Trainable params: 80,319,610\n",
      "Non-trainable params: 0\n",
      "_________________________________________________________________\n"
     ]
    }
   ],
   "source": [
    "embedding_dim = 200\n",
    "\n",
    "model = Sequential()\n",
    "model.add(layers.Embedding(input_dim=vocab_size, \n",
    "                           output_dim=embedding_dim, \n",
    "                           input_length=maxlen))\n",
    "model.add(layers.Bidirectional(keras.layers.LSTM(64)))\n",
    "#model.add(layers.Dropout(0.1))\n",
    "model.add(layers.Dense(64, activation='relu',kernel_initializer='he_uniform'))\n",
    "model.add(layers.Dropout(0.5))\n",
    "model.add(layers.Dense(32, activation='relu'))\n",
    "model.add(layers.Dense(18,activation='softmax'))\n",
    "\n",
    "model.compile(optimizer='adam',\n",
    "              loss='sparse_categorical_crossentropy',\n",
    "              metrics=['acc'])\n",
    "model.summary()\n",
    "\n"
   ]
  },
  {
   "cell_type": "markdown",
   "id": "207cfa0c",
   "metadata": {
    "papermill": {
     "duration": 0.02471,
     "end_time": "2022-03-10T19:57:33.553304",
     "exception": false,
     "start_time": "2022-03-10T19:57:33.528594",
     "status": "completed"
    },
    "tags": []
   },
   "source": [
    "## 4- Fitting the model"
   ]
  },
  {
   "cell_type": "markdown",
   "id": "fc9af884",
   "metadata": {
    "papermill": {
     "duration": 0.024615,
     "end_time": "2022-03-10T19:57:33.602987",
     "exception": false,
     "start_time": "2022-03-10T19:57:33.578372",
     "status": "completed"
    },
    "tags": []
   },
   "source": [
    "- epochs = 4, because more than that the model overfits.\n",
    "- Batch size = 256 , also choosed by trial and error."
   ]
  },
  {
   "cell_type": "code",
   "execution_count": 12,
   "id": "22a665ea",
   "metadata": {
    "execution": {
     "iopub.execute_input": "2022-03-10T19:57:33.658439Z",
     "iopub.status.busy": "2022-03-10T19:57:33.657870Z",
     "iopub.status.idle": "2022-03-10T20:01:23.985432Z",
     "shell.execute_reply": "2022-03-10T20:01:23.985853Z",
     "shell.execute_reply.started": "2022-03-10T19:39:58.408247Z"
    },
    "papermill": {
     "duration": 230.358103,
     "end_time": "2022-03-10T20:01:23.986013",
     "exception": false,
     "start_time": "2022-03-10T19:57:33.627910",
     "status": "completed"
    },
    "tags": []
   },
   "outputs": [
    {
     "name": "stderr",
     "output_type": "stream",
     "text": [
      "2022-03-10 19:57:33.811982: I tensorflow/compiler/mlir/mlir_graph_optimization_pass.cc:185] None of the MLIR Optimization Passes are enabled (registered 2)\n"
     ]
    },
    {
     "name": "stdout",
     "output_type": "stream",
     "text": [
      "Epoch 1/4\n"
     ]
    },
    {
     "name": "stderr",
     "output_type": "stream",
     "text": [
      "2022-03-10 19:57:37.246231: I tensorflow/stream_executor/cuda/cuda_dnn.cc:369] Loaded cuDNN version 8005\n"
     ]
    },
    {
     "name": "stdout",
     "output_type": "stream",
     "text": [
      "1432/1432 [==============================] - 61s 40ms/step - loss: 2.0356 - acc: 0.3499 - val_loss: 1.6941 - val_acc: 0.4623\n",
      "Epoch 2/4\n",
      "1432/1432 [==============================] - 56s 39ms/step - loss: 1.4093 - acc: 0.5572 - val_loss: 1.6205 - val_acc: 0.5041\n",
      "Epoch 3/4\n",
      "1432/1432 [==============================] - 56s 39ms/step - loss: 0.9954 - acc: 0.6975 - val_loss: 1.7493 - val_acc: 0.5092\n",
      "Epoch 4/4\n",
      "1432/1432 [==============================] - 56s 39ms/step - loss: 0.7041 - acc: 0.7908 - val_loss: 2.0512 - val_acc: 0.4989\n"
     ]
    }
   ],
   "source": [
    "history = model.fit(X_train, y_train,\n",
    "                    epochs=4,\n",
    "                    verbose=True,\n",
    "                    validation_data=(X_val, y_val),\n",
    "                    batch_size=256)\n",
    "                    #callbacks=[EarlyStopping(monitor='val_loss',min_delta=0.05)])\n"
   ]
  },
  {
   "cell_type": "markdown",
   "id": "022a5a1d",
   "metadata": {
    "papermill": {
     "duration": 0.89204,
     "end_time": "2022-03-10T20:01:25.810448",
     "exception": false,
     "start_time": "2022-03-10T20:01:24.918408",
     "status": "completed"
    },
    "tags": []
   },
   "source": [
    "## Checking F1-score on test"
   ]
  },
  {
   "cell_type": "code",
   "execution_count": 13,
   "id": "80c769bb",
   "metadata": {
    "execution": {
     "iopub.execute_input": "2022-03-10T20:01:28.043523Z",
     "iopub.status.busy": "2022-03-10T20:01:28.042868Z",
     "iopub.status.idle": "2022-03-10T20:01:30.094944Z",
     "shell.execute_reply": "2022-03-10T20:01:30.094497Z",
     "shell.execute_reply.started": "2022-03-10T19:44:22.805790Z"
    },
    "papermill": {
     "duration": 3.194091,
     "end_time": "2022-03-10T20:01:30.095066",
     "exception": false,
     "start_time": "2022-03-10T20:01:26.900975",
     "status": "completed"
    },
    "tags": []
   },
   "outputs": [],
   "source": [
    "test = pd.read_csv(\"../input/clean-dialect-text/test.csv\",lineterminator='\\n')\n",
    "y_test = test['dialect']\n",
    "x_test = test['clean_text']\n",
    "X_test = tokenizer.texts_to_sequences(x_test)\n",
    "Y_test = encoder.transform(y_test)\n",
    "X_test = pad_sequences(X_test, padding='post', maxlen=maxlen)"
   ]
  },
  {
   "cell_type": "code",
   "execution_count": 14,
   "id": "d814f2ee",
   "metadata": {
    "execution": {
     "iopub.execute_input": "2022-03-10T20:01:31.946997Z",
     "iopub.status.busy": "2022-03-10T20:01:31.946132Z",
     "iopub.status.idle": "2022-03-10T20:01:42.689848Z",
     "shell.execute_reply": "2022-03-10T20:01:42.689369Z",
     "shell.execute_reply.started": "2022-03-10T19:44:26.916138Z"
    },
    "papermill": {
     "duration": 11.6408,
     "end_time": "2022-03-10T20:01:42.689981",
     "exception": false,
     "start_time": "2022-03-10T20:01:31.049181",
     "status": "completed"
    },
    "tags": []
   },
   "outputs": [],
   "source": [
    "output = model.predict(X_test)\n",
    "out = output.argmax(axis = 1)[:,None]\n",
    "# reshaping to enter the f1 function\n",
    "Y_pred = out.reshape((out.shape[0],))\n",
    "Y_true = np.array(Y_test)"
   ]
  },
  {
   "cell_type": "code",
   "execution_count": 15,
   "id": "52cb8ed3",
   "metadata": {
    "execution": {
     "iopub.execute_input": "2022-03-10T20:01:44.531258Z",
     "iopub.status.busy": "2022-03-10T20:01:44.530591Z",
     "iopub.status.idle": "2022-03-10T20:01:44.588675Z",
     "shell.execute_reply": "2022-03-10T20:01:44.589075Z",
     "shell.execute_reply.started": "2022-03-10T19:48:46.421789Z"
    },
    "papermill": {
     "duration": 0.977564,
     "end_time": "2022-03-10T20:01:44.589274",
     "exception": false,
     "start_time": "2022-03-10T20:01:43.611710",
     "status": "completed"
    },
    "tags": []
   },
   "outputs": [
    {
     "data": {
      "text/plain": [
       "0.46536801166160724"
      ]
     },
     "execution_count": 15,
     "metadata": {},
     "output_type": "execute_result"
    }
   ],
   "source": [
    "from sklearn.metrics import f1_score\n",
    "\n",
    "f1_score(Y_true, Y_pred, average='macro')"
   ]
  },
  {
   "cell_type": "code",
   "execution_count": 16,
   "id": "69a921be",
   "metadata": {
    "execution": {
     "iopub.execute_input": "2022-03-10T20:01:46.406479Z",
     "iopub.status.busy": "2022-03-10T20:01:46.405672Z",
     "iopub.status.idle": "2022-03-10T20:01:46.407774Z",
     "shell.execute_reply": "2022-03-10T20:01:46.408170Z",
     "shell.execute_reply.started": "2022-03-08T19:28:32.944135Z"
    },
    "papermill": {
     "duration": 0.908912,
     "end_time": "2022-03-10T20:01:46.408314",
     "exception": false,
     "start_time": "2022-03-10T20:01:45.499402",
     "status": "completed"
    },
    "tags": []
   },
   "outputs": [],
   "source": [
    "# print(np.argmax(output))\n",
    "# list(encoder.inverse_transform([np.argmax(output)]))"
   ]
  },
  {
   "cell_type": "markdown",
   "id": "dbed7d0f",
   "metadata": {
    "papermill": {
     "duration": 0.895823,
     "end_time": "2022-03-10T20:01:48.212866",
     "exception": false,
     "start_time": "2022-03-10T20:01:47.317043",
     "status": "completed"
    },
    "tags": []
   },
   "source": [
    "## 5- Saving the model, tokenizer and the encoder"
   ]
  },
  {
   "cell_type": "markdown",
   "id": "47a2b132",
   "metadata": {
    "papermill": {
     "duration": 0.895255,
     "end_time": "2022-03-10T20:01:50.286054",
     "exception": false,
     "start_time": "2022-03-10T20:01:49.390799",
     "status": "completed"
    },
    "tags": []
   },
   "source": [
    "The model:"
   ]
  },
  {
   "cell_type": "code",
   "execution_count": 17,
   "id": "869796d9",
   "metadata": {
    "execution": {
     "iopub.execute_input": "2022-03-10T20:01:52.416009Z",
     "iopub.status.busy": "2022-03-10T20:01:52.415480Z",
     "iopub.status.idle": "2022-03-10T20:01:53.027917Z",
     "shell.execute_reply": "2022-03-10T20:01:53.028627Z",
     "shell.execute_reply.started": "2022-03-10T19:51:44.395884Z"
    },
    "papermill": {
     "duration": 1.614178,
     "end_time": "2022-03-10T20:01:53.028823",
     "exception": false,
     "start_time": "2022-03-10T20:01:51.414645",
     "status": "completed"
    },
    "tags": []
   },
   "outputs": [
    {
     "name": "stdout",
     "output_type": "stream",
     "text": [
      "Saved model to disk\n"
     ]
    }
   ],
   "source": [
    "model_json = model.to_json()\n",
    "with open(\"model.json\", \"w\") as json_file:\n",
    "    json_file.write(model_json)\n",
    "# serialize weights to HDF5\n",
    "model.save_weights(\"model.h5\")\n",
    "print(\"Saved model to disk\")"
   ]
  },
  {
   "cell_type": "markdown",
   "id": "fc6d22bc",
   "metadata": {
    "papermill": {
     "duration": 0.899048,
     "end_time": "2022-03-10T20:01:54.826382",
     "exception": false,
     "start_time": "2022-03-10T20:01:53.927334",
     "status": "completed"
    },
    "tags": []
   },
   "source": [
    "Tokenizer:"
   ]
  },
  {
   "cell_type": "code",
   "execution_count": 18,
   "id": "637f69d9",
   "metadata": {
    "execution": {
     "iopub.execute_input": "2022-03-10T20:01:56.650069Z",
     "iopub.status.busy": "2022-03-10T20:01:56.645292Z",
     "iopub.status.idle": "2022-03-10T20:01:57.232001Z",
     "shell.execute_reply": "2022-03-10T20:01:57.231456Z",
     "shell.execute_reply.started": "2022-03-10T19:54:00.739298Z"
    },
    "papermill": {
     "duration": 1.511925,
     "end_time": "2022-03-10T20:01:57.232164",
     "exception": false,
     "start_time": "2022-03-10T20:01:55.720239",
     "status": "completed"
    },
    "tags": []
   },
   "outputs": [],
   "source": [
    "import pickle\n",
    "\n",
    "# saving\n",
    "with open('tokenizer.pickle', 'wb') as handle:\n",
    "    pickle.dump(tokenizer, handle, protocol=pickle.HIGHEST_PROTOCOL)"
   ]
  },
  {
   "cell_type": "markdown",
   "id": "f61ae5c7",
   "metadata": {
    "papermill": {
     "duration": 0.910668,
     "end_time": "2022-03-10T20:01:59.052551",
     "exception": false,
     "start_time": "2022-03-10T20:01:58.141883",
     "status": "completed"
    },
    "tags": []
   },
   "source": [
    "Encoder:"
   ]
  },
  {
   "cell_type": "code",
   "execution_count": 19,
   "id": "1680446e",
   "metadata": {
    "execution": {
     "iopub.execute_input": "2022-03-10T20:02:01.570480Z",
     "iopub.status.busy": "2022-03-10T20:02:01.569007Z",
     "iopub.status.idle": "2022-03-10T20:02:01.571288Z",
     "shell.execute_reply": "2022-03-10T20:02:01.571702Z",
     "shell.execute_reply.started": "2022-03-10T19:56:11.127482Z"
    },
    "papermill": {
     "duration": 1.374225,
     "end_time": "2022-03-10T20:02:01.571835",
     "exception": false,
     "start_time": "2022-03-10T20:02:00.197610",
     "status": "completed"
    },
    "tags": []
   },
   "outputs": [],
   "source": [
    "with open('encoder.pkl', 'wb') as handle:\n",
    "    pickle.dump(encoder,handle)"
   ]
  },
  {
   "cell_type": "markdown",
   "id": "c604c447",
   "metadata": {
    "papermill": {
     "duration": 0.953031,
     "end_time": "2022-03-10T20:02:03.461979",
     "exception": false,
     "start_time": "2022-03-10T20:02:02.508948",
     "status": "completed"
    },
    "tags": []
   },
   "source": [
    "## Conclusions:\n",
    "\n",
    "- Because Arabic dialects are similar, it'll be better if we used less classes.\n",
    "- I believe that ML model is better. "
   ]
  }
 ],
 "metadata": {
  "kernelspec": {
   "display_name": "Python 3",
   "language": "python",
   "name": "python3"
  },
  "language_info": {
   "codemirror_mode": {
    "name": "ipython",
    "version": 3
   },
   "file_extension": ".py",
   "mimetype": "text/x-python",
   "name": "python",
   "nbconvert_exporter": "python",
   "pygments_lexer": "ipython3",
   "version": "3.7.12"
  },
  "papermill": {
   "default_parameters": {},
   "duration": 314.840778,
   "end_time": "2022-03-10T20:02:07.650338",
   "environment_variables": {},
   "exception": null,
   "input_path": "__notebook__.ipynb",
   "output_path": "__notebook__.ipynb",
   "parameters": {},
   "start_time": "2022-03-10T19:56:52.809560",
   "version": "2.3.3"
  }
 },
 "nbformat": 4,
 "nbformat_minor": 5
}
